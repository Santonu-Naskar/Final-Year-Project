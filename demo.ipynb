from transformers import pipeline

# Load the question answering pipeline
qa_pipeline = pipeline('question-answering',
                       model='/content/drive/MyDrive/finalyearproject/saved_model',
                       tokenizer='/content/drive/MyDrive/finalyearproject/saved_model')
qa_pipeline({
    'context': "The Golden Gate Bridge is a suspension bridge spanning the Golden Gate, the one-mile-wide (1.6 km) strait connecting San Francisco Bay and the Pacific Ocean. The structure links the American city of San Francisco, California—the northern tip of the San Francisco Peninsula—to Marin County, carrying both U.S. Route 101 and California State Route 1 across the strait. The bridge is one of the most internationally recognized symbols of San Francisco, California, and the United States. It has been declared one of the Wonders of the Modern World by the American Society of Civil Engineers.",
    'question': "Which city does the Golden Gate Bridge link to Marin County?"
})
